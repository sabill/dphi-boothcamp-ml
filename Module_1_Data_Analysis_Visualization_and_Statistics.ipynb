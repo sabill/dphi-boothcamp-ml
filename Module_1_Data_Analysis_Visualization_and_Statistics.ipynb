{
  "nbformat": 4,
  "nbformat_minor": 0,
  "metadata": {
    "colab": {
      "name": "Module_1_Data_Analysis_Visualization_and_Statistics.ipynb",
      "provenance": [],
      "authorship_tag": "ABX9TyOGTqXkYHzTgS/7lZHmuVpZ",
      "include_colab_link": true
    },
    "kernelspec": {
      "name": "python3",
      "display_name": "Python 3"
    }
  },
  "cells": [
    {
      "cell_type": "markdown",
      "metadata": {
        "id": "view-in-github",
        "colab_type": "text"
      },
      "source": [
        "<a href=\"https://colab.research.google.com/github/sabill/dphi-boothcamp-ml/blob/main/Module_1_Data_Analysis_Visualization_and_Statistics.ipynb\" target=\"_parent\"><img src=\"https://colab.research.google.com/assets/colab-badge.svg\" alt=\"Open In Colab\"/></a>"
      ]
    },
    {
      "cell_type": "code",
      "metadata": {
        "id": "pg_OWA2gO1ha"
      },
      "source": [
        "import pandas as pd"
      ],
      "execution_count": 1,
      "outputs": []
    },
    {
      "cell_type": "code",
      "metadata": {
        "id": "MEII3UD6PFxt"
      },
      "source": [
        "greenhouse_data = pd.read_csv('https://raw.githubusercontent.com/dphi-official/Datasets/master/UNdata_Greenhouse_Gas.csv')"
      ],
      "execution_count": 2,
      "outputs": []
    },
    {
      "cell_type": "code",
      "metadata": {
        "colab": {
          "base_uri": "https://localhost:8080/",
          "height": 347
        },
        "id": "s63bwLkfPMOb",
        "outputId": "d4738304-f1e4-4f28-e92d-5b0ec63382d2"
      },
      "source": [
        "greenhouse_data.head(10)"
      ],
      "execution_count": 3,
      "outputs": [
        {
          "output_type": "execute_result",
          "data": {
            "text/html": [
              "<div>\n",
              "<style scoped>\n",
              "    .dataframe tbody tr th:only-of-type {\n",
              "        vertical-align: middle;\n",
              "    }\n",
              "\n",
              "    .dataframe tbody tr th {\n",
              "        vertical-align: top;\n",
              "    }\n",
              "\n",
              "    .dataframe thead th {\n",
              "        text-align: right;\n",
              "    }\n",
              "</style>\n",
              "<table border=\"1\" class=\"dataframe\">\n",
              "  <thead>\n",
              "    <tr style=\"text-align: right;\">\n",
              "      <th></th>\n",
              "      <th>Country or Area</th>\n",
              "      <th>Year</th>\n",
              "      <th>Value</th>\n",
              "    </tr>\n",
              "  </thead>\n",
              "  <tbody>\n",
              "    <tr>\n",
              "      <th>0</th>\n",
              "      <td>Australia</td>\n",
              "      <td>2017</td>\n",
              "      <td>554126.561371</td>\n",
              "    </tr>\n",
              "    <tr>\n",
              "      <th>1</th>\n",
              "      <td>Australia</td>\n",
              "      <td>2016</td>\n",
              "      <td>546771.759767</td>\n",
              "    </tr>\n",
              "    <tr>\n",
              "      <th>2</th>\n",
              "      <td>Australia</td>\n",
              "      <td>2015</td>\n",
              "      <td>535173.674335</td>\n",
              "    </tr>\n",
              "    <tr>\n",
              "      <th>3</th>\n",
              "      <td>Australia</td>\n",
              "      <td>2014</td>\n",
              "      <td>524957.101167</td>\n",
              "    </tr>\n",
              "    <tr>\n",
              "      <th>4</th>\n",
              "      <td>Australia</td>\n",
              "      <td>2013</td>\n",
              "      <td>530433.518839</td>\n",
              "    </tr>\n",
              "    <tr>\n",
              "      <th>5</th>\n",
              "      <td>Australia</td>\n",
              "      <td>2012</td>\n",
              "      <td>540615.864772</td>\n",
              "    </tr>\n",
              "    <tr>\n",
              "      <th>6</th>\n",
              "      <td>Australia</td>\n",
              "      <td>2011</td>\n",
              "      <td>538280.611349</td>\n",
              "    </tr>\n",
              "    <tr>\n",
              "      <th>7</th>\n",
              "      <td>Australia</td>\n",
              "      <td>2010</td>\n",
              "      <td>537275.249361</td>\n",
              "    </tr>\n",
              "    <tr>\n",
              "      <th>8</th>\n",
              "      <td>Australia</td>\n",
              "      <td>2009</td>\n",
              "      <td>540913.370344</td>\n",
              "    </tr>\n",
              "    <tr>\n",
              "      <th>9</th>\n",
              "      <td>Australia</td>\n",
              "      <td>2008</td>\n",
              "      <td>537031.991695</td>\n",
              "    </tr>\n",
              "  </tbody>\n",
              "</table>\n",
              "</div>"
            ],
            "text/plain": [
              "  Country or Area  Year          Value\n",
              "0       Australia  2017  554126.561371\n",
              "1       Australia  2016  546771.759767\n",
              "2       Australia  2015  535173.674335\n",
              "3       Australia  2014  524957.101167\n",
              "4       Australia  2013  530433.518839\n",
              "5       Australia  2012  540615.864772\n",
              "6       Australia  2011  538280.611349\n",
              "7       Australia  2010  537275.249361\n",
              "8       Australia  2009  540913.370344\n",
              "9       Australia  2008  537031.991695"
            ]
          },
          "metadata": {
            "tags": []
          },
          "execution_count": 3
        }
      ]
    },
    {
      "cell_type": "code",
      "metadata": {
        "colab": {
          "base_uri": "https://localhost:8080/",
          "height": 347
        },
        "id": "BhbGRVDUPXuO",
        "outputId": "736bbec0-e772-45d5-d6fe-58283d584a00"
      },
      "source": [
        "greenhouse_data.tail(10)"
      ],
      "execution_count": 4,
      "outputs": [
        {
          "output_type": "execute_result",
          "data": {
            "text/html": [
              "<div>\n",
              "<style scoped>\n",
              "    .dataframe tbody tr th:only-of-type {\n",
              "        vertical-align: middle;\n",
              "    }\n",
              "\n",
              "    .dataframe tbody tr th {\n",
              "        vertical-align: top;\n",
              "    }\n",
              "\n",
              "    .dataframe thead th {\n",
              "        text-align: right;\n",
              "    }\n",
              "</style>\n",
              "<table border=\"1\" class=\"dataframe\">\n",
              "  <thead>\n",
              "    <tr style=\"text-align: right;\">\n",
              "      <th></th>\n",
              "      <th>Country or Area</th>\n",
              "      <th>Year</th>\n",
              "      <th>Value</th>\n",
              "    </tr>\n",
              "  </thead>\n",
              "  <tbody>\n",
              "    <tr>\n",
              "      <th>1194</th>\n",
              "      <td>United States of America</td>\n",
              "      <td>1999</td>\n",
              "      <td>7.071461e+06</td>\n",
              "    </tr>\n",
              "    <tr>\n",
              "      <th>1195</th>\n",
              "      <td>United States of America</td>\n",
              "      <td>1998</td>\n",
              "      <td>7.032526e+06</td>\n",
              "    </tr>\n",
              "    <tr>\n",
              "      <th>1196</th>\n",
              "      <td>United States of America</td>\n",
              "      <td>1997</td>\n",
              "      <td>6.968462e+06</td>\n",
              "    </tr>\n",
              "    <tr>\n",
              "      <th>1197</th>\n",
              "      <td>United States of America</td>\n",
              "      <td>1996</td>\n",
              "      <td>6.907699e+06</td>\n",
              "    </tr>\n",
              "    <tr>\n",
              "      <th>1198</th>\n",
              "      <td>United States of America</td>\n",
              "      <td>1995</td>\n",
              "      <td>6.710067e+06</td>\n",
              "    </tr>\n",
              "    <tr>\n",
              "      <th>1199</th>\n",
              "      <td>United States of America</td>\n",
              "      <td>1994</td>\n",
              "      <td>6.624836e+06</td>\n",
              "    </tr>\n",
              "    <tr>\n",
              "      <th>1200</th>\n",
              "      <td>United States of America</td>\n",
              "      <td>1993</td>\n",
              "      <td>6.532070e+06</td>\n",
              "    </tr>\n",
              "    <tr>\n",
              "      <th>1201</th>\n",
              "      <td>United States of America</td>\n",
              "      <td>1992</td>\n",
              "      <td>6.424934e+06</td>\n",
              "    </tr>\n",
              "    <tr>\n",
              "      <th>1202</th>\n",
              "      <td>United States of America</td>\n",
              "      <td>1991</td>\n",
              "      <td>6.315615e+06</td>\n",
              "    </tr>\n",
              "    <tr>\n",
              "      <th>1203</th>\n",
              "      <td>United States of America</td>\n",
              "      <td>1990</td>\n",
              "      <td>6.371001e+06</td>\n",
              "    </tr>\n",
              "  </tbody>\n",
              "</table>\n",
              "</div>"
            ],
            "text/plain": [
              "               Country or Area  Year         Value\n",
              "1194  United States of America  1999  7.071461e+06\n",
              "1195  United States of America  1998  7.032526e+06\n",
              "1196  United States of America  1997  6.968462e+06\n",
              "1197  United States of America  1996  6.907699e+06\n",
              "1198  United States of America  1995  6.710067e+06\n",
              "1199  United States of America  1994  6.624836e+06\n",
              "1200  United States of America  1993  6.532070e+06\n",
              "1201  United States of America  1992  6.424934e+06\n",
              "1202  United States of America  1991  6.315615e+06\n",
              "1203  United States of America  1990  6.371001e+06"
            ]
          },
          "metadata": {
            "tags": []
          },
          "execution_count": 4
        }
      ]
    },
    {
      "cell_type": "code",
      "metadata": {
        "colab": {
          "base_uri": "https://localhost:8080/"
        },
        "id": "wa1jiLSrPa__",
        "outputId": "815ffcfa-1033-494b-f306-debe8368de96"
      },
      "source": [
        "greenhouse_data.isna().sum()"
      ],
      "execution_count": 5,
      "outputs": [
        {
          "output_type": "execute_result",
          "data": {
            "text/plain": [
              "Country or Area    0\n",
              "Year               0\n",
              "Value              0\n",
              "dtype: int64"
            ]
          },
          "metadata": {
            "tags": []
          },
          "execution_count": 5
        }
      ]
    },
    {
      "cell_type": "code",
      "metadata": {
        "id": "0f8aFEyNPhuN"
      },
      "source": [
        "greenhouse_data.to_csv('file2.csv')"
      ],
      "execution_count": 8,
      "outputs": []
    },
    {
      "cell_type": "code",
      "metadata": {
        "id": "feNIrsYwP0kG"
      },
      "source": [
        "pd.download()"
      ],
      "execution_count": null,
      "outputs": []
    }
  ]
}