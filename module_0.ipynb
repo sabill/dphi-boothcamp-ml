{
  "nbformat": 4,
  "nbformat_minor": 0,
  "metadata": {
    "colab": {
      "name": "DPhi.ipynb",
      "provenance": [],
      "authorship_tag": "ABX9TyOV9Bnc/PaAm+tF8HeR3OGx",
      "include_colab_link": true
    },
    "kernelspec": {
      "name": "python3",
      "display_name": "Python 3"
    }
  },
  "cells": [
    {
      "cell_type": "markdown",
      "metadata": {
        "id": "view-in-github",
        "colab_type": "text"
      },
      "source": [
        "<a href=\"https://colab.research.google.com/github/sabill/dphi-boothcamp-ml/blob/main/module_0.ipynb\" target=\"_parent\"><img src=\"https://colab.research.google.com/assets/colab-badge.svg\" alt=\"Open In Colab\"/></a>"
      ]
    },
    {
      "cell_type": "code",
      "metadata": {
        "id": "5X1hKwJqTSTy"
      },
      "source": [
        "L = [10, 2, 7, 8, 3, 22, 54, 12, 13, 46, 23, 25, 41]"
      ],
      "execution_count": null,
      "outputs": []
    },
    {
      "cell_type": "code",
      "metadata": {
        "id": "f27TnRhETXZF"
      },
      "source": [
        "import numpy as np"
      ],
      "execution_count": null,
      "outputs": []
    },
    {
      "cell_type": "code",
      "metadata": {
        "id": "-_rZOewLTeRk"
      },
      "source": [
        "arr = np.array(L)"
      ],
      "execution_count": null,
      "outputs": []
    },
    {
      "cell_type": "code",
      "metadata": {
        "id": "U46r1vbeTjHW"
      },
      "source": [
        "arr.sort()"
      ],
      "execution_count": null,
      "outputs": []
    },
    {
      "cell_type": "code",
      "metadata": {
        "colab": {
          "base_uri": "https://localhost:8080/"
        },
        "id": "WLyiokA9ToYk",
        "outputId": "051d5e78-de88-45f3-8dbe-083e0ab0c4d6"
      },
      "source": [
        "arr"
      ],
      "execution_count": null,
      "outputs": [
        {
          "output_type": "execute_result",
          "data": {
            "text/plain": [
              "array([ 2,  3,  7,  8, 10, 12, 13, 22, 23, 25, 41, 46, 54])"
            ]
          },
          "metadata": {
            "tags": []
          },
          "execution_count": 10
        }
      ]
    },
    {
      "cell_type": "code",
      "metadata": {
        "colab": {
          "base_uri": "https://localhost:8080/"
        },
        "id": "QAL_agwmTrDE",
        "outputId": "5ab2d5ce-248b-4eb7-c926-2fcdc160a15a"
      },
      "source": [
        "np.append(arr, 53).reshape(2,7)"
      ],
      "execution_count": null,
      "outputs": [
        {
          "output_type": "execute_result",
          "data": {
            "text/plain": [
              "array([[ 2,  3,  7,  8, 10, 12, 13],\n",
              "       [22, 23, 25, 41, 46, 54, 53]])"
            ]
          },
          "metadata": {
            "tags": []
          },
          "execution_count": 14
        }
      ]
    },
    {
      "cell_type": "code",
      "metadata": {
        "colab": {
          "base_uri": "https://localhost:8080/"
        },
        "id": "DOwyOqpU9DA8",
        "outputId": "07f90a65-4ab1-4c51-d32d-1ea65ec8ba9c"
      },
      "source": [
        "arr2 = np.array(range(25))\n",
        "arr2"
      ],
      "execution_count": null,
      "outputs": [
        {
          "output_type": "execute_result",
          "data": {
            "text/plain": [
              "array([ 0,  1,  2,  3,  4,  5,  6,  7,  8,  9, 10, 11, 12, 13, 14, 15, 16,\n",
              "       17, 18, 19, 20, 21, 22, 23, 24])"
            ]
          },
          "metadata": {
            "tags": []
          },
          "execution_count": 6
        }
      ]
    },
    {
      "cell_type": "code",
      "metadata": {
        "id": "npU3ZWDaT4EB",
        "colab": {
          "base_uri": "https://localhost:8080/"
        },
        "outputId": "87bc479a-31d6-487a-9cc8-a6969a9fe737"
      },
      "source": [
        "arr2 = arr2.reshape(5,5)\n",
        "arr2"
      ],
      "execution_count": null,
      "outputs": [
        {
          "output_type": "execute_result",
          "data": {
            "text/plain": [
              "array([[ 0,  1,  2,  3,  4],\n",
              "       [ 5,  6,  7,  8,  9],\n",
              "       [10, 11, 12, 13, 14],\n",
              "       [15, 16, 17, 18, 19],\n",
              "       [20, 21, 22, 23, 24]])"
            ]
          },
          "metadata": {
            "tags": []
          },
          "execution_count": 9
        }
      ]
    },
    {
      "cell_type": "code",
      "metadata": {
        "colab": {
          "base_uri": "https://localhost:8080/"
        },
        "id": "xZ04rgAO9eCm",
        "outputId": "6ffa9135-73f6-440e-adcd-9500bb249b4e"
      },
      "source": [
        "arr2[0:2, -2:]"
      ],
      "execution_count": null,
      "outputs": [
        {
          "output_type": "execute_result",
          "data": {
            "text/plain": [
              "array([[3, 4],\n",
              "       [8, 9]])"
            ]
          },
          "metadata": {
            "tags": []
          },
          "execution_count": 11
        }
      ]
    },
    {
      "cell_type": "code",
      "metadata": {
        "colab": {
          "base_uri": "https://localhost:8080/"
        },
        "id": "33-rOij897UT",
        "outputId": "4fb9bb09-ed7d-4e8e-a929-5e7c9c94b92e"
      },
      "source": [
        "arr2[1:5:2,0:5:2]"
      ],
      "execution_count": null,
      "outputs": [
        {
          "output_type": "execute_result",
          "data": {
            "text/plain": [
              "array([[ 5,  7,  9],\n",
              "       [15, 17, 19]])"
            ]
          },
          "metadata": {
            "tags": []
          },
          "execution_count": 13
        }
      ]
    },
    {
      "cell_type": "code",
      "metadata": {
        "id": "4SbSA0FW-scz"
      },
      "source": [
        "import pandas as pd"
      ],
      "execution_count": 1,
      "outputs": []
    },
    {
      "cell_type": "code",
      "metadata": {
        "id": "F0SHa_Uf6cLx"
      },
      "source": [
        "sma_data = pd.read_csv(\"https://raw.githubusercontent.com/dphi-official/Datasets/master/Standard_Metropolitan_Areas_Data-data.csv\")"
      ],
      "execution_count": 2,
      "outputs": []
    },
    {
      "cell_type": "code",
      "metadata": {
        "id": "_JompGee6jmL",
        "outputId": "48566f71-6c2b-41d9-c2be-028b495f9d59",
        "colab": {
          "base_uri": "https://localhost:8080/"
        }
      },
      "source": [
        "sma_data.shape"
      ],
      "execution_count": 3,
      "outputs": [
        {
          "output_type": "execute_result",
          "data": {
            "text/plain": [
              "(99, 10)"
            ]
          },
          "metadata": {
            "tags": []
          },
          "execution_count": 3
        }
      ]
    },
    {
      "cell_type": "code",
      "metadata": {
        "id": "aD4-BGwH6nxd",
        "outputId": "5d2fe868-5e0d-4518-8882-ed29cef38cea",
        "colab": {
          "base_uri": "https://localhost:8080/",
          "height": 197
        }
      },
      "source": [
        "sma_data.tail()"
      ],
      "execution_count": 4,
      "outputs": [
        {
          "output_type": "execute_result",
          "data": {
            "text/html": [
              "<div>\n",
              "<style scoped>\n",
              "    .dataframe tbody tr th:only-of-type {\n",
              "        vertical-align: middle;\n",
              "    }\n",
              "\n",
              "    .dataframe tbody tr th {\n",
              "        vertical-align: top;\n",
              "    }\n",
              "\n",
              "    .dataframe thead th {\n",
              "        text-align: right;\n",
              "    }\n",
              "</style>\n",
              "<table border=\"1\" class=\"dataframe\">\n",
              "  <thead>\n",
              "    <tr style=\"text-align: right;\">\n",
              "      <th></th>\n",
              "      <th>land_area</th>\n",
              "      <th>percent_city</th>\n",
              "      <th>percent_senior</th>\n",
              "      <th>physicians</th>\n",
              "      <th>hospital_beds</th>\n",
              "      <th>graduates</th>\n",
              "      <th>work_force</th>\n",
              "      <th>income</th>\n",
              "      <th>region</th>\n",
              "      <th>crime_rate</th>\n",
              "    </tr>\n",
              "  </thead>\n",
              "  <tbody>\n",
              "    <tr>\n",
              "      <th>94</th>\n",
              "      <td>1511</td>\n",
              "      <td>38.7</td>\n",
              "      <td>10.7</td>\n",
              "      <td>348</td>\n",
              "      <td>1093</td>\n",
              "      <td>50.4</td>\n",
              "      <td>127.2</td>\n",
              "      <td>1452</td>\n",
              "      <td>4</td>\n",
              "      <td>70.66</td>\n",
              "    </tr>\n",
              "    <tr>\n",
              "      <th>95</th>\n",
              "      <td>1543</td>\n",
              "      <td>39.6</td>\n",
              "      <td>8.1</td>\n",
              "      <td>159</td>\n",
              "      <td>481</td>\n",
              "      <td>30.3</td>\n",
              "      <td>80.6</td>\n",
              "      <td>769</td>\n",
              "      <td>3</td>\n",
              "      <td>36.36</td>\n",
              "    </tr>\n",
              "    <tr>\n",
              "      <th>96</th>\n",
              "      <td>1011</td>\n",
              "      <td>37.8</td>\n",
              "      <td>10.5</td>\n",
              "      <td>264</td>\n",
              "      <td>964</td>\n",
              "      <td>70.7</td>\n",
              "      <td>93.2</td>\n",
              "      <td>1337</td>\n",
              "      <td>3</td>\n",
              "      <td>60.16</td>\n",
              "    </tr>\n",
              "    <tr>\n",
              "      <th>97</th>\n",
              "      <td>813</td>\n",
              "      <td>13.4</td>\n",
              "      <td>10.9</td>\n",
              "      <td>371</td>\n",
              "      <td>4355</td>\n",
              "      <td>58.0</td>\n",
              "      <td>97.0</td>\n",
              "      <td>1589</td>\n",
              "      <td>1</td>\n",
              "      <td>36.33</td>\n",
              "    </tr>\n",
              "    <tr>\n",
              "      <th>98</th>\n",
              "      <td>654</td>\n",
              "      <td>28.8</td>\n",
              "      <td>3.9</td>\n",
              "      <td>140</td>\n",
              "      <td>1296</td>\n",
              "      <td>55.1</td>\n",
              "      <td>66.9</td>\n",
              "      <td>1148</td>\n",
              "      <td>3</td>\n",
              "      <td>68.76</td>\n",
              "    </tr>\n",
              "  </tbody>\n",
              "</table>\n",
              "</div>"
            ],
            "text/plain": [
              "    land_area  percent_city  percent_senior  ...  income  region  crime_rate\n",
              "94       1511          38.7            10.7  ...    1452       4       70.66\n",
              "95       1543          39.6             8.1  ...     769       3       36.36\n",
              "96       1011          37.8            10.5  ...    1337       3       60.16\n",
              "97        813          13.4            10.9  ...    1589       1       36.33\n",
              "98        654          28.8             3.9  ...    1148       3       68.76\n",
              "\n",
              "[5 rows x 10 columns]"
            ]
          },
          "metadata": {
            "tags": []
          },
          "execution_count": 4
        }
      ]
    },
    {
      "cell_type": "code",
      "metadata": {
        "id": "0MtAoP7a6vz9",
        "outputId": "50f03d4e-184f-4f17-a9da-57ef30e256c6",
        "colab": {
          "base_uri": "https://localhost:8080/"
        }
      },
      "source": [
        "sma_data.info()"
      ],
      "execution_count": 9,
      "outputs": [
        {
          "output_type": "stream",
          "text": [
            "<class 'pandas.core.frame.DataFrame'>\n",
            "RangeIndex: 99 entries, 0 to 98\n",
            "Data columns (total 10 columns):\n",
            " #   Column          Non-Null Count  Dtype  \n",
            "---  ------          --------------  -----  \n",
            " 0   land_area       99 non-null     int64  \n",
            " 1   percent_city    99 non-null     float64\n",
            " 2   percent_senior  99 non-null     float64\n",
            " 3   physicians      99 non-null     int64  \n",
            " 4   hospital_beds   99 non-null     int64  \n",
            " 5   graduates       99 non-null     float64\n",
            " 6   work_force      99 non-null     float64\n",
            " 7   income          99 non-null     int64  \n",
            " 8   region          99 non-null     int64  \n",
            " 9   crime_rate      99 non-null     float64\n",
            "dtypes: float64(5), int64(5)\n",
            "memory usage: 7.9 KB\n"
          ],
          "name": "stdout"
        }
      ]
    },
    {
      "cell_type": "code",
      "metadata": {
        "id": "h85bPj4065Qp"
      },
      "source": [
        ""
      ],
      "execution_count": null,
      "outputs": []
    }
  ]
}